{
 "cells": [
  {
   "cell_type": "markdown",
   "id": "cd0f2052-379c-4a24-b2f4-93fad2744e1c",
   "metadata": {},
   "source": [
    "# Regression Exercise: Bike Sharing\n",
    "## 1. Data Check"
   ]
  },
  {
   "cell_type": "code",
   "execution_count": 2,
   "id": "119ed07d-a9a3-4e9b-9569-ae577d2aaa01",
   "metadata": {},
   "outputs": [
    {
     "name": "stdout",
     "output_type": "stream",
     "text": [
      "(10886, 12)\n"
     ]
    },
    {
     "data": {
      "text/html": [
       "<div>\n",
       "<style scoped>\n",
       "    .dataframe tbody tr th:only-of-type {\n",
       "        vertical-align: middle;\n",
       "    }\n",
       "\n",
       "    .dataframe tbody tr th {\n",
       "        vertical-align: top;\n",
       "    }\n",
       "\n",
       "    .dataframe thead th {\n",
       "        text-align: right;\n",
       "    }\n",
       "</style>\n",
       "<table border=\"1\" class=\"dataframe\">\n",
       "  <thead>\n",
       "    <tr style=\"text-align: right;\">\n",
       "      <th></th>\n",
       "      <th>datetime</th>\n",
       "      <th>season</th>\n",
       "      <th>holiday</th>\n",
       "      <th>workingday</th>\n",
       "      <th>weather</th>\n",
       "      <th>temp</th>\n",
       "      <th>atemp</th>\n",
       "      <th>humidity</th>\n",
       "      <th>windspeed</th>\n",
       "      <th>casual</th>\n",
       "      <th>registered</th>\n",
       "      <th>count</th>\n",
       "    </tr>\n",
       "  </thead>\n",
       "  <tbody>\n",
       "    <tr>\n",
       "      <th>0</th>\n",
       "      <td>2011-01-01 00:00:00</td>\n",
       "      <td>1</td>\n",
       "      <td>0</td>\n",
       "      <td>0</td>\n",
       "      <td>1</td>\n",
       "      <td>9.84</td>\n",
       "      <td>14.395</td>\n",
       "      <td>81</td>\n",
       "      <td>0.0</td>\n",
       "      <td>3</td>\n",
       "      <td>13</td>\n",
       "      <td>16</td>\n",
       "    </tr>\n",
       "    <tr>\n",
       "      <th>1</th>\n",
       "      <td>2011-01-01 01:00:00</td>\n",
       "      <td>1</td>\n",
       "      <td>0</td>\n",
       "      <td>0</td>\n",
       "      <td>1</td>\n",
       "      <td>9.02</td>\n",
       "      <td>13.635</td>\n",
       "      <td>80</td>\n",
       "      <td>0.0</td>\n",
       "      <td>8</td>\n",
       "      <td>32</td>\n",
       "      <td>40</td>\n",
       "    </tr>\n",
       "    <tr>\n",
       "      <th>2</th>\n",
       "      <td>2011-01-01 02:00:00</td>\n",
       "      <td>1</td>\n",
       "      <td>0</td>\n",
       "      <td>0</td>\n",
       "      <td>1</td>\n",
       "      <td>9.02</td>\n",
       "      <td>13.635</td>\n",
       "      <td>80</td>\n",
       "      <td>0.0</td>\n",
       "      <td>5</td>\n",
       "      <td>27</td>\n",
       "      <td>32</td>\n",
       "    </tr>\n",
       "  </tbody>\n",
       "</table>\n",
       "</div>"
      ],
      "text/plain": [
       "              datetime  season  holiday  workingday  weather  temp   atemp  \\\n",
       "0  2011-01-01 00:00:00       1        0           0        1  9.84  14.395   \n",
       "1  2011-01-01 01:00:00       1        0           0        1  9.02  13.635   \n",
       "2  2011-01-01 02:00:00       1        0           0        1  9.02  13.635   \n",
       "\n",
       "   humidity  windspeed  casual  registered  count  \n",
       "0        81        0.0       3          13     16  \n",
       "1        80        0.0       8          32     40  \n",
       "2        80        0.0       5          27     32  "
      ]
     },
     "execution_count": 2,
     "metadata": {},
     "output_type": "execute_result"
    }
   ],
   "source": [
    "import numpy as np\n",
    "import pandas as pd\n",
    "import seaborn as sns\n",
    "import matplotlib.pyplot as plt\n",
    "%matplotlib inline\n",
    "\n",
    "import warnings\n",
    "warnings.filterwarnings(\"ignore\", category=RuntimeWarning)\n",
    "\n",
    "bike_df = pd.read_csv('../ExerciseWeek3/bike-sharing-demand/train.csv')\n",
    "print(bike_df.shape) #as of today, 10886 records & 12 features/columns\n",
    "bike_df.head(3)"
   ]
  },
  {
   "cell_type": "code",
   "execution_count": 3,
   "id": "45a77e67-f92e-49c7-a7f7-9fd7e1709de7",
   "metadata": {},
   "outputs": [
    {
     "name": "stdout",
     "output_type": "stream",
     "text": [
      "<class 'pandas.core.frame.DataFrame'>\n",
      "RangeIndex: 10886 entries, 0 to 10885\n",
      "Data columns (total 12 columns):\n",
      " #   Column      Non-Null Count  Dtype  \n",
      "---  ------      --------------  -----  \n",
      " 0   datetime    10886 non-null  object \n",
      " 1   season      10886 non-null  int64  \n",
      " 2   holiday     10886 non-null  int64  \n",
      " 3   workingday  10886 non-null  int64  \n",
      " 4   weather     10886 non-null  int64  \n",
      " 5   temp        10886 non-null  float64\n",
      " 6   atemp       10886 non-null  float64\n",
      " 7   humidity    10886 non-null  int64  \n",
      " 8   windspeed   10886 non-null  float64\n",
      " 9   casual      10886 non-null  int64  \n",
      " 10  registered  10886 non-null  int64  \n",
      " 11  count       10886 non-null  int64  \n",
      "dtypes: float64(3), int64(8), object(1)\n",
      "memory usage: 1020.7+ KB\n"
     ]
    }
   ],
   "source": [
    "bike_df.info()"
   ]
  },
  {
   "cell_type": "code",
   "execution_count": 4,
   "id": "c0ffdf82-43a8-46b4-986d-b0e0fa1fb18a",
   "metadata": {},
   "outputs": [
    {
     "data": {
      "text/html": [
       "<div>\n",
       "<style scoped>\n",
       "    .dataframe tbody tr th:only-of-type {\n",
       "        vertical-align: middle;\n",
       "    }\n",
       "\n",
       "    .dataframe tbody tr th {\n",
       "        vertical-align: top;\n",
       "    }\n",
       "\n",
       "    .dataframe thead th {\n",
       "        text-align: right;\n",
       "    }\n",
       "</style>\n",
       "<table border=\"1\" class=\"dataframe\">\n",
       "  <thead>\n",
       "    <tr style=\"text-align: right;\">\n",
       "      <th></th>\n",
       "      <th>datetime</th>\n",
       "      <th>season</th>\n",
       "      <th>holiday</th>\n",
       "      <th>workingday</th>\n",
       "      <th>weather</th>\n",
       "      <th>temp</th>\n",
       "      <th>atemp</th>\n",
       "      <th>humidity</th>\n",
       "      <th>windspeed</th>\n",
       "      <th>casual</th>\n",
       "      <th>registered</th>\n",
       "      <th>count</th>\n",
       "      <th>year</th>\n",
       "      <th>month</th>\n",
       "      <th>day</th>\n",
       "      <th>hour</th>\n",
       "    </tr>\n",
       "  </thead>\n",
       "  <tbody>\n",
       "    <tr>\n",
       "      <th>0</th>\n",
       "      <td>2011-01-01 00:00:00</td>\n",
       "      <td>1</td>\n",
       "      <td>0</td>\n",
       "      <td>0</td>\n",
       "      <td>1</td>\n",
       "      <td>9.84</td>\n",
       "      <td>14.395</td>\n",
       "      <td>81</td>\n",
       "      <td>0.0</td>\n",
       "      <td>3</td>\n",
       "      <td>13</td>\n",
       "      <td>16</td>\n",
       "      <td>2011</td>\n",
       "      <td>1</td>\n",
       "      <td>1</td>\n",
       "      <td>0</td>\n",
       "    </tr>\n",
       "    <tr>\n",
       "      <th>1</th>\n",
       "      <td>2011-01-01 01:00:00</td>\n",
       "      <td>1</td>\n",
       "      <td>0</td>\n",
       "      <td>0</td>\n",
       "      <td>1</td>\n",
       "      <td>9.02</td>\n",
       "      <td>13.635</td>\n",
       "      <td>80</td>\n",
       "      <td>0.0</td>\n",
       "      <td>8</td>\n",
       "      <td>32</td>\n",
       "      <td>40</td>\n",
       "      <td>2011</td>\n",
       "      <td>1</td>\n",
       "      <td>1</td>\n",
       "      <td>1</td>\n",
       "    </tr>\n",
       "    <tr>\n",
       "      <th>2</th>\n",
       "      <td>2011-01-01 02:00:00</td>\n",
       "      <td>1</td>\n",
       "      <td>0</td>\n",
       "      <td>0</td>\n",
       "      <td>1</td>\n",
       "      <td>9.02</td>\n",
       "      <td>13.635</td>\n",
       "      <td>80</td>\n",
       "      <td>0.0</td>\n",
       "      <td>5</td>\n",
       "      <td>27</td>\n",
       "      <td>32</td>\n",
       "      <td>2011</td>\n",
       "      <td>1</td>\n",
       "      <td>1</td>\n",
       "      <td>2</td>\n",
       "    </tr>\n",
       "  </tbody>\n",
       "</table>\n",
       "</div>"
      ],
      "text/plain": [
       "             datetime  season  holiday  workingday  weather  temp   atemp  \\\n",
       "0 2011-01-01 00:00:00       1        0           0        1  9.84  14.395   \n",
       "1 2011-01-01 01:00:00       1        0           0        1  9.02  13.635   \n",
       "2 2011-01-01 02:00:00       1        0           0        1  9.02  13.635   \n",
       "\n",
       "   humidity  windspeed  casual  registered  count  year  month  day  hour  \n",
       "0        81        0.0       3          13     16  2011      1    1     0  \n",
       "1        80        0.0       8          32     40  2011      1    1     1  \n",
       "2        80        0.0       5          27     32  2011      1    1     2  "
      ]
     },
     "execution_count": 4,
     "metadata": {},
     "output_type": "execute_result"
    }
   ],
   "source": [
    "# Changing datetime object into datetime type\n",
    "bike_df['datetime'] = bike_df.datetime.apply(pd.to_datetime)\n",
    "\n",
    "\n",
    "# Assign year, month, day & hour\n",
    "bike_df['year'] = bike_df.datetime.apply(lambda x : x.year)\n",
    "bike_df['month'] = bike_df.datetime.apply(lambda x : x.month)\n",
    "bike_df['day'] = bike_df.datetime.apply(lambda x : x.day)\n",
    "bike_df['hour'] = bike_df.datetime.apply(lambda x : x.hour)\n",
    "bike_df.head(3)"
   ]
  },
  {
   "cell_type": "markdown",
   "id": "f7570f05-edac-4e34-8791-55c1cd5b9b0c",
   "metadata": {},
   "source": [
    "### After converting the object into datetime types,\n",
    "### 4 more features were added (prev=12, now=16)"
   ]
  },
  {
   "cell_type": "code",
   "execution_count": 6,
   "id": "d366a449-c67c-4a77-8281-6925d7a86ab8",
   "metadata": {},
   "outputs": [
    {
     "data": {
      "text/plain": [
       "(10886, 16)"
      ]
     },
     "execution_count": 6,
     "metadata": {},
     "output_type": "execute_result"
    }
   ],
   "source": [
    "bike_df.shape"
   ]
  },
  {
   "cell_type": "markdown",
   "id": "46d1c15e-50fd-485c-8f61-040075eb7fed",
   "metadata": {},
   "source": [
    "#### Deleting redundant data columns (Datetime, casual & registered)\n",
    "#### count = casual + registered"
   ]
  },
  {
   "cell_type": "code",
   "execution_count": 8,
   "id": "4c9f12a5-d6be-450d-85c4-a60aa73103f8",
   "metadata": {},
   "outputs": [
    {
     "data": {
      "text/html": [
       "<div>\n",
       "<style scoped>\n",
       "    .dataframe tbody tr th:only-of-type {\n",
       "        vertical-align: middle;\n",
       "    }\n",
       "\n",
       "    .dataframe tbody tr th {\n",
       "        vertical-align: top;\n",
       "    }\n",
       "\n",
       "    .dataframe thead th {\n",
       "        text-align: right;\n",
       "    }\n",
       "</style>\n",
       "<table border=\"1\" class=\"dataframe\">\n",
       "  <thead>\n",
       "    <tr style=\"text-align: right;\">\n",
       "      <th></th>\n",
       "      <th>season</th>\n",
       "      <th>holiday</th>\n",
       "      <th>workingday</th>\n",
       "      <th>weather</th>\n",
       "      <th>temp</th>\n",
       "      <th>atemp</th>\n",
       "      <th>humidity</th>\n",
       "      <th>windspeed</th>\n",
       "      <th>count</th>\n",
       "      <th>year</th>\n",
       "      <th>month</th>\n",
       "      <th>day</th>\n",
       "      <th>hour</th>\n",
       "    </tr>\n",
       "  </thead>\n",
       "  <tbody>\n",
       "    <tr>\n",
       "      <th>0</th>\n",
       "      <td>1</td>\n",
       "      <td>0</td>\n",
       "      <td>0</td>\n",
       "      <td>1</td>\n",
       "      <td>9.84</td>\n",
       "      <td>14.395</td>\n",
       "      <td>81</td>\n",
       "      <td>0.0</td>\n",
       "      <td>16</td>\n",
       "      <td>2011</td>\n",
       "      <td>1</td>\n",
       "      <td>1</td>\n",
       "      <td>0</td>\n",
       "    </tr>\n",
       "    <tr>\n",
       "      <th>1</th>\n",
       "      <td>1</td>\n",
       "      <td>0</td>\n",
       "      <td>0</td>\n",
       "      <td>1</td>\n",
       "      <td>9.02</td>\n",
       "      <td>13.635</td>\n",
       "      <td>80</td>\n",
       "      <td>0.0</td>\n",
       "      <td>40</td>\n",
       "      <td>2011</td>\n",
       "      <td>1</td>\n",
       "      <td>1</td>\n",
       "      <td>1</td>\n",
       "    </tr>\n",
       "    <tr>\n",
       "      <th>2</th>\n",
       "      <td>1</td>\n",
       "      <td>0</td>\n",
       "      <td>0</td>\n",
       "      <td>1</td>\n",
       "      <td>9.02</td>\n",
       "      <td>13.635</td>\n",
       "      <td>80</td>\n",
       "      <td>0.0</td>\n",
       "      <td>32</td>\n",
       "      <td>2011</td>\n",
       "      <td>1</td>\n",
       "      <td>1</td>\n",
       "      <td>2</td>\n",
       "    </tr>\n",
       "  </tbody>\n",
       "</table>\n",
       "</div>"
      ],
      "text/plain": [
       "   season  holiday  workingday  weather  temp   atemp  humidity  windspeed  \\\n",
       "0       1        0           0        1  9.84  14.395        81        0.0   \n",
       "1       1        0           0        1  9.02  13.635        80        0.0   \n",
       "2       1        0           0        1  9.02  13.635        80        0.0   \n",
       "\n",
       "   count  year  month  day  hour  \n",
       "0     16  2011      1    1     0  \n",
       "1     40  2011      1    1     1  \n",
       "2     32  2011      1    1     2  "
      ]
     },
     "execution_count": 8,
     "metadata": {},
     "output_type": "execute_result"
    }
   ],
   "source": [
    "drop_cols = ['datetime','casual','registered']\n",
    "bike_df.drop(drop_cols, axis=1,inplace=True)\n",
    "bike_df.head(3)"
   ]
  },
  {
   "cell_type": "markdown",
   "id": "2ecb3f2b-ff9a-440e-98e4-526a64cd2ff7",
   "metadata": {},
   "source": [
    "#### To evaluate regression models we use:\n",
    "#### 1.Mean Squared Error\n",
    "#### 2.Root mean squared error\n",
    "#### 3.Mean absolute error\n",
    "#### 4.Mean absolute percentage error"
   ]
  },
  {
   "cell_type": "code",
   "execution_count": 26,
   "id": "d3c4110f-87c7-4b73-aba9-720dfd40572c",
   "metadata": {},
   "outputs": [],
   "source": [
    "# Importing needed libraries for evaluation\n",
    "from sklearn.metrics import mean_squared_error, mean_absolute_error\n",
    "\n",
    "# Scikit Learn doesn't offer Root Mean Squared Log Error\n",
    "# Thus, we will manually define RMSLE\n",
    "\n",
    "def rmsle(y, pred):\n",
    "    log_y = np.log1p(y)\n",
    "    log_pred = np.log1p(pred)\n",
    "    squared_error = (log_y - log_pred) ** 2\n",
    "    rmsle = np.sqrt(np.mean(squared_error))\n",
    "    return rmsle"
   ]
  },
  {
   "cell_type": "code",
   "execution_count": 28,
   "id": "5566eebe-6da5-4101-9eb2-33f9f1321156",
   "metadata": {},
   "outputs": [],
   "source": [
    "# Defining RMSE\n",
    "def rmse(y, pred):\n",
    "    return np.sqrt(mean_squared_error(y,pred))"
   ]
  },
  {
   "cell_type": "code",
   "execution_count": 37,
   "id": "d36e3588-a669-4c01-a488-adb094d22841",
   "metadata": {},
   "outputs": [],
   "source": [
    "# MSE, RMSE, RMSLE\n",
    "def evaluate_regr(y,pred):\n",
    "    rmsle_val = rmsle(y, pred)\n",
    "    rmse_val = rmse(y, pred)\n",
    "\n",
    "    # MAE equation already exists in sklearn modules\n",
    "    mae_val = mean_absolute_error(y,pred)\n",
    "\n",
    "      # Print the values before formatting to check them\n",
    "    print(\"RMSLE:\", rmsle_val, \"RMSE:\", rmse_val, \"MAE:\", mae_val,'\\n')\n",
    "    \n",
    "    print('RMSLE:{:.3f}, RMSE:{:.3f}, MAE:{:.3f}'.format(rmsle_val, rmse_val, mae_val))"
   ]
  },
  {
   "cell_type": "markdown",
   "id": "7ba3d50a-aca9-42b1-86ab-ed134e963ad9",
   "metadata": {},
   "source": [
    "## 2. Modelling\n",
    "#### Using linear regression @ first"
   ]
  },
  {
   "cell_type": "code",
   "execution_count": 40,
   "id": "e58e84d2-a043-45f9-8447-3e4b891afe99",
   "metadata": {},
   "outputs": [
    {
     "name": "stdout",
     "output_type": "stream",
     "text": [
      "RMSLE: 1.1646636237111023 RMSE: 140.8995886716559 MAE: 105.9244483510065 \n",
      "\n",
      "RMSLE:1.165, RMSE:140.900, MAE:105.924\n"
     ]
    }
   ],
   "source": [
    "from sklearn.model_selection import train_test_split, GridSearchCV\n",
    "from sklearn.linear_model import LinearRegression, Ridge, Lasso\n",
    "\n",
    "y_target = bike_df['count']\n",
    "X_features = bike_df.drop(['count'], axis=1, inplace=False)\n",
    "\n",
    "X_train, X_test, y_train, y_test = train_test_split(X_features, y_target, test_size=0.3, random_state=0)\n",
    "\n",
    "lr_reg = LinearRegression()\n",
    "lr_reg.fit(X_train, y_train)\n",
    "pred = lr_reg.predict(X_test)\n",
    "\n",
    "evaluate_regr(y_test, pred)"
   ]
  },
  {
   "cell_type": "markdown",
   "id": "41118080-5c06-4c71-b409-e11c1cb5e30c",
   "metadata": {},
   "source": [
    "#### Apparently the erorr is a bit high considering the bike count we have\n",
    "##### (ask papa about it visusally for more insight)"
   ]
  },
  {
   "cell_type": "code",
   "execution_count": 45,
   "id": "f09336ef-f500-46d3-a8c8-5fb7e329ed05",
   "metadata": {},
   "outputs": [
    {
     "data": {
      "text/plain": [
       "count    10886.000000\n",
       "mean       191.574132\n",
       "std        181.144454\n",
       "min          1.000000\n",
       "25%         42.000000\n",
       "50%        145.000000\n",
       "75%        284.000000\n",
       "max        977.000000\n",
       "Name: count, dtype: float64"
      ]
     },
     "execution_count": 45,
     "metadata": {},
     "output_type": "execute_result"
    }
   ],
   "source": [
    "bike_df['count'].describe()"
   ]
  },
  {
   "cell_type": "markdown",
   "id": "d9c287ea-8ba2-40f5-9a66-27d6fef03abc",
   "metadata": {},
   "source": [
    "#### As it can be seen, the avergae bike sharing use was 191 and median was 145\n",
    "#### Comparing prediction with actual data"
   ]
  },
  {
   "cell_type": "code",
   "execution_count": 55,
   "id": "876813bf-e47e-4bc9-9312-7e71a77f4a53",
   "metadata": {},
   "outputs": [
    {
     "name": "stdout",
     "output_type": "stream",
     "text": [
      "      real_count  predicted_count   diff\n",
      "1618         890            322.0  568.0\n",
      "3151         798            241.0  557.0\n",
      "966          884            327.0  557.0\n",
      "412          745            194.0  551.0\n",
      "2817         856            310.0  546.0\n"
     ]
    }
   ],
   "source": [
    "def get_top_error_data(y_test, pred, n_tops = 5):\n",
    "    result_df = pd.DataFrame(y_test.values, columns=['real_count'])\n",
    "    result_df['predicted_count']= np.round(pred)\n",
    "    result_df['diff']= np.abs(result_df['real_count'] - result_df['predicted_count'])\n",
    "\n",
    "    print(result_df.sort_values('diff', ascending=False)[:n_tops])\n",
    "\n",
    "get_top_error_data(y_test, pred, n_tops=5)"
   ]
  },
  {
   "cell_type": "markdown",
   "id": "f1d404b2-8756-46e0-bda8-c1b316e34c3b",
   "metadata": {},
   "source": [
    "#### Precition gaps greater than 500 do not seem to fit the actual result"
   ]
  },
  {
   "cell_type": "markdown",
   "id": "893d3ee5-934c-4713-ab21-5968073f44ef",
   "metadata": {},
   "source": [
    "#### The reason for this is that the bike count was left biased\n",
    "#### Left biased or Negatively Skewed"
   ]
  },
  {
   "cell_type": "code",
   "execution_count": 64,
   "id": "e8089f4f-e67a-452b-ad82-84fda4476c49",
   "metadata": {},
   "outputs": [
    {
     "data": {
      "text/plain": [
       "<Axes: >"
      ]
     },
     "execution_count": 64,
     "metadata": {},
     "output_type": "execute_result"
    },
    {
     "data": {
      "image/png": "[encoded data removed]",
      "text/plain": [
       "<Figure size 640x480 with 1 Axes>"
      ]
     },
     "metadata": {},
     "output_type": "display_data"
    }
   ],
   "source": [
    "y_target.hist()"
   ]
  },
  {
   "cell_type": "markdown",
   "id": "ec62f3b1-6bd1-4fe7-aea1-afc3c63b8167",
   "metadata": {},
   "source": [
    "##### The x axis represents the bike sharing counts\n",
    "##### The y axis represents the frquency of each count range\n",
    "##### The data is heavily concentrated on the let side of the histogram, with the majority of counts being less than 200\\\n",
    "#### According to papa, given the majority of bike counts are under 200, a prediciton gap greater than 500 is unusual rare, counts above 500 are rare.\n",
    "#### A large prediction gap in this range is likely an overestimate. Model needs more calibration, especially for lower or more common count values."
   ]
  },
  {
   "cell_type": "markdown",
   "id": "256ddf7f-b022-4384-8c08-b5f1792dc194",
   "metadata": {},
   "source": [
    "### Taking a log on our DV, why?\n",
    "#### According to papa, this is to handle skewness, as previously seen, there was\n",
    "#### left skewed data, this would help make the data more symmetrical\n",
    "#### Other uses are, Stabilize Variance, Improve MOdel FIt"
   ]
  },
  {
   "cell_type": "code",
   "execution_count": 83,
   "id": "e8203209-cb22-4c15-94ba-1495cd092e45",
   "metadata": {},
   "outputs": [
    {
     "data": {
      "text/plain": [
       "<Axes: >"
      ]
     },
     "execution_count": 83,
     "metadata": {},
     "output_type": "execute_result"
    },
    {
     "data": {
      "image/png": "[encoded data removed]",
      "text/plain": [
       "<Figure size 640x480 with 1 Axes>"
      ]
     },
     "metadata": {},
     "output_type": "display_data"
    }
   ],
   "source": [
    "# np.log1p computes the natural logarithm of (1 + 'x')\n",
    "# used to handle cases where x may be 0 or close to 0\n",
    "# it ensures that the result is defined for all non-negative 'x'\n",
    "\n",
    "y_log_transform = np.log1p(y_target)\n",
    "y_log_transform.hist()"
   ]
  },
  {
   "cell_type": "markdown",
   "id": "535c4fec-747d-4843-a6f1-433acd5b5355",
   "metadata": {},
   "source": [
    "#### After this histogram, the variables seem to follow normalized distribution.\n",
    "#### Thus, we will retrain the model now"
   ]
  },
  {
   "cell_type": "code",
   "execution_count": 81,
   "id": "5296d6ad-e74e-4566-b6af-bf145c989bfd",
   "metadata": {},
   "outputs": [
    {
     "name": "stdout",
     "output_type": "stream",
     "text": [
      "RMSLE: 1.016826598200343 RMSE: 162.594268090046 MAE: 109.28615860077547 \n",
      "\n",
      "RMSLE:1.017, RMSE:162.594, MAE:109.286\n"
     ]
    }
   ],
   "source": [
    "y_target_log = np.log1p(y_target)\n",
    "\n",
    "# np.log1p computes the natural logarithm of (1 + 'x')\n",
    "# used to handle cases where x may be 0 or close to 0\n",
    "# it ensures that the result is defined for all non-negative 'x'\n",
    "\n",
    "X_train, X_test, y_train, y_test = train_test_split(X_features, y_target_log, test_size=0.3, random_state=0)\n",
    "lr_reg = LinearRegression()\n",
    "lr_reg.fit(X_train, y_train)\n",
    "pred = lr_reg.predict(X_test)\n",
    "\n",
    "y_test_exp = np.expm1(y_test)\n",
    "pred_exp = np.expm1(pred)\n",
    "\n",
    "evaluate_regr(y_test_exp, pred_exp)"
   ]
  },
  {
   "cell_type": "markdown",
   "id": "5586cf99-3604-4f0c-bae4-36c36cfd644f",
   "metadata": {},
   "source": [
    "#### As seen in the results, the RMSLE score decreased, and the RMSE increased.\n",
    "### But why?"
   ]
  },
  {
   "cell_type": "markdown",
   "id": "a4898688-49d9-4f9a-8303-08e7cdf0d97e",
   "metadata": {},
   "source": [
    "## 3. Model Validation"
   ]
  },
  {
   "cell_type": "markdown",
   "id": "386520a3-7a8b-4ca2-b1e8-dceccbd0ece2",
   "metadata": {},
   "source": [
    "### Taking a look on the features' coefficient\n",
    "### Plotting coefficient"
   ]
  },
  {
   "cell_type": "code",
   "execution_count": 95,
   "id": "1ced4a62-0fcc-4954-90a8-0ab68cd44a71",
   "metadata": {},
   "outputs": [
    {
     "data": {
      "text/plain": [
       "<Axes: ylabel='None'>"
      ]
     },
     "execution_count": 95,
     "metadata": {},
     "output_type": "execute_result"
    },
    {
     "data": {
      "image/png": "[encoded data removed]",
      "text/plain": [
       "<Figure size 640x480 with 1 Axes>"
      ]
     },
     "metadata": {},
     "output_type": "display_data"
    }
   ],
   "source": [
    "coef = pd.Series(lr_reg.coef_, index=X_features.columns)\n",
    "coef_sort = coef.sort_values(ascending=False)\n",
    "sns.barplot(x=coef_sort.values, y=coef_sort.index)"
   ]
  },
  {
   "cell_type": "markdown",
   "id": "f6936d3c-3b68-420b-a573-5cb27ddd7da8",
   "metadata": {},
   "source": [
    "#### The features with the greatest coefficient are:\n",
    "#### Datetime, including year, hour, month & day.\n",
    "\n",
    "#### The data is only from year 2011 & 2012\n",
    "#### Does not make sense to have such high coefficients\n",
    "#### This is because such value is affecting the training."
   ]
  },
  {
   "cell_type": "markdown",
   "id": "3c264ebd-1cd0-4937-ab86-e0e64124b3e0",
   "metadata": {},
   "source": [
    "#### Year & Day is just a date itself: year 2012 does not have greater value than year 2011\n",
    "#### It's just a label "
   ]
  },
  {
   "cell_type": "markdown",
   "id": "4ca02410-6424-430d-b64c-b19463e94a1b",
   "metadata": {},
   "source": [
    "### One Hot Encoding (year, month, day, hour)"
   ]
  },
  {
   "cell_type": "code",
   "execution_count": 112,
   "id": "12eee8ac-d217-41a2-8357-dfc36701f6f6",
   "metadata": {},
   "outputs": [],
   "source": [
    "X_features_ohe = pd.get_dummies(X_features, columns=['year', 'month', 'day', 'hour',\n",
    "                                                     'holiday', 'workingday',\n",
    "                                                     'season', 'weather'])"
   ]
  },
  {
   "cell_type": "markdown",
   "id": "edfc5aef-3b34-453e-922b-47f4456692c9",
   "metadata": {},
   "source": [
    "#### Retraining data after one hot encoding\n",
    "### Modeling Ridge and Lasso"
   ]
  },
  {
   "cell_type": "code",
   "execution_count": 125,
   "id": "ca228f87-a17c-4521-b4fc-04b7dfb8bd70",
   "metadata": {},
   "outputs": [
    {
     "name": "stdout",
     "output_type": "stream",
     "text": [
      "### LinearRegression ###\n",
      "RMSLE: 0.5896394488215624 RMSE: 97.69048645285208 MAE: 63.3830878754745 \n",
      "\n",
      "RMSLE:0.590, RMSE:97.690, MAE:63.383\n",
      "### Ridge ###\n",
      "RMSLE: 0.5901367703437248 RMSE: 98.52859077604572 MAE: 63.89335277110797 \n",
      "\n",
      "RMSLE:0.590, RMSE:98.529, MAE:63.893\n",
      "### Lasso ###\n",
      "RMSLE: 0.6347518077052987 RMSE: 113.21881019147774 MAE: 72.80270669734962 \n",
      "\n",
      "RMSLE:0.635, RMSE:113.219, MAE:72.803\n"
     ]
    }
   ],
   "source": [
    "X_train, X_test, y_train, y_test = train_test_split( X_features_ohe, y_target_log,\n",
    "                                                    test_size=0.3, random_state=0)\n",
    "\n",
    "def get_model_predict(model, X_train, X_test, y_train, y_test, is_expm1=False):\n",
    "    model.fit(X_train, y_train)\n",
    "    pred = model.predict(X_test)\n",
    "    if is_expm1 :\n",
    "        y_test = np.expm1(y_test)\n",
    "        pred = np.expm1(pred)\n",
    "    print('###', model.__class__.__name__,'###')\n",
    "    evaluate_regr(y_test, pred)\n",
    "    # end of function\n",
    "\n",
    "#Model Evaluation\n",
    "lr_reg = LinearRegression()\n",
    "ridge_reg = Ridge(alpha=10)\n",
    "lasso_reg = Lasso(alpha=0.01)\n",
    "\n",
    "for model in [lr_reg, ridge_reg, lasso_reg,]:\n",
    "    get_model_predict(model, X_train, X_test, y_train, y_test, is_expm1=True)"
   ]
  },
  {
   "cell_type": "markdown",
   "id": "03108e64-4afd-40f7-a939-8d782a242951",
   "metadata": {},
   "source": [
    "#### If you compare it to the previous values:\n",
    "#### Linear Regression: RMSLE:1.165, RMSE:140.900, MAE:105.924\n",
    "#### After taking a log: RMSLE:1.017, RMSE:162.594, MAE:109.286\n",
    "#### After hot encoding, ridge & lasso: RMSLE:0.635, RMSE:113.219, MAE:72.803"
   ]
  },
  {
   "cell_type": "markdown",
   "id": "2b8765b0-91f3-4478-9b76-8226512fbd84",
   "metadata": {},
   "source": [
    "## Replotting the coefficient"
   ]
  },
  {
   "cell_type": "code",
   "execution_count": 137,
   "id": "0c862251-7c74-4f97-925c-8a794376191f",
   "metadata": {},
   "outputs": [
    {
     "data": {
      "text/plain": [
       "<Axes: ylabel='None'>"
      ]
     },
     "execution_count": 137,
     "metadata": {},
     "output_type": "execute_result"
    },
    {
     "data": {
      "image/png": "[encoded data removed]",
      "text/plain": [
       "<Figure size 640x480 with 1 Axes>"
      ]
     },
     "metadata": {},
     "output_type": "display_data"
    }
   ],
   "source": [
    "coef = pd.Series(lr_reg.coef_, index=X_features_ohe.columns)\n",
    "coef_sort = coef.sort_values(ascending=False)[:20]\n",
    "sns.barplot(x=coef_sort.values, y=coef_sort.index)"
   ]
  },
  {
   "cell_type": "markdown",
   "id": "cdf5cac3-a618-4f6f-b801-ac68c0e6ac4a",
   "metadata": {},
   "source": [
    "## Compare to previous Coefficient plot\n",
    "### In a linear model, Feature Setup can drastically affect models"
   ]
  },
  {
   "cell_type": "markdown",
   "id": "3312e0dd-0c49-4933-b1f9-0eed36686134",
   "metadata": {},
   "source": [
    "## TA bonus:\n",
    "## Decision Tree training based regression models"
   ]
  },
  {
   "cell_type": "code",
   "execution_count": 161,
   "id": "5fe8821d-dbeb-40db-844c-0054042e1cde",
   "metadata": {},
   "outputs": [
    {
     "name": "stdout",
     "output_type": "stream",
     "text": [
      "Collecting xgboostNote: you may need to restart the kernel to use updated packages.\n",
      "\n",
      "  Downloading xgboost-2.1.1-py3-none-win_amd64.whl.metadata (2.1 kB)\n",
      "Requirement already satisfied: numpy in c:\\users\\sasu-\\anaconda3\\lib\\site-packages (from xgboost) (1.26.4)\n",
      "Requirement already satisfied: scipy in c:\\users\\sasu-\\anaconda3\\lib\\site-packages (from xgboost) (1.13.1)\n",
      "Downloading xgboost-2.1.1-py3-none-win_amd64.whl (124.9 MB)\n",
      "   ---------------------------------------- 0.0/124.9 MB ? eta -:--:--\n",
      "   ---------------------------------------- 0.0/124.9 MB ? eta -:--:--\n",
      "   ---------------------------------------- 0.0/124.9 MB 495.5 kB/s eta 0:04:12\n",
      "   ---------------------------------------- 0.3/124.9 MB 2.4 MB/s eta 0:00:53\n",
      "   ---------------------------------------- 1.2/124.9 MB 6.7 MB/s eta 0:00:19\n",
      "    --------------------------------------- 2.0/124.9 MB 9.1 MB/s eta 0:00:14\n",
      "   - -------------------------------------- 3.2/124.9 MB 12.6 MB/s eta 0:00:10\n",
      "   - -------------------------------------- 4.3/124.9 MB 14.5 MB/s eta 0:00:09\n",
      "   - -------------------------------------- 4.7/124.9 MB 13.1 MB/s eta 0:00:10\n",
      "   - -------------------------------------- 5.7/124.9 MB 14.7 MB/s eta 0:00:09\n",
      "   -- ------------------------------------- 6.8/124.9 MB 15.4 MB/s eta 0:00:08\n",
      "   -- ------------------------------------- 7.6/124.9 MB 15.6 MB/s eta 0:00:08\n",
      "   -- ------------------------------------- 7.9/124.9 MB 15.3 MB/s eta 0:00:08\n",
      "   -- ------------------------------------- 9.2/124.9 MB 16.3 MB/s eta 0:00:08\n",
      "   --- ------------------------------------ 11.1/124.9 MB 22.6 MB/s eta 0:00:06\n",
      "   ---- ----------------------------------- 13.1/124.9 MB 25.2 MB/s eta 0:00:05\n",
      "   ---- ----------------------------------- 14.6/124.9 MB 28.4 MB/s eta 0:00:04\n",
      "   ----- ---------------------------------- 16.5/124.9 MB 31.2 MB/s eta 0:00:04\n",
      "   ----- ---------------------------------- 17.3/124.9 MB 29.7 MB/s eta 0:00:04\n",
      "   ------ --------------------------------- 19.0/124.9 MB 36.4 MB/s eta 0:00:03\n",
      "   ------ --------------------------------- 20.8/124.9 MB 34.4 MB/s eta 0:00:04\n",
      "   ------- -------------------------------- 22.4/124.9 MB 32.8 MB/s eta 0:00:04\n",
      "   ------- -------------------------------- 23.8/124.9 MB 36.4 MB/s eta 0:00:03\n",
      "   -------- ------------------------------- 25.2/124.9 MB 34.4 MB/s eta 0:00:03\n",
      "   -------- ------------------------------- 26.9/124.9 MB 34.4 MB/s eta 0:00:03\n",
      "   --------- ------------------------------ 28.6/124.9 MB 36.4 MB/s eta 0:00:03\n",
      "   --------- ------------------------------ 29.7/124.9 MB 32.7 MB/s eta 0:00:03\n",
      "   ---------- ----------------------------- 31.3/124.9 MB 32.7 MB/s eta 0:00:03\n",
      "   ---------- ----------------------------- 33.0/124.9 MB 34.4 MB/s eta 0:00:03\n",
      "   ---------- ----------------------------- 34.0/124.9 MB 32.7 MB/s eta 0:00:03\n",
      "   ---------- ----------------------------- 34.3/124.9 MB 28.5 MB/s eta 0:00:04\n",
      "   ----------- ---------------------------- 35.8/124.9 MB 29.7 MB/s eta 0:00:03\n",
      "   ----------- ---------------------------- 36.9/124.9 MB 28.4 MB/s eta 0:00:04\n",
      "   ------------ --------------------------- 37.6/124.9 MB 27.3 MB/s eta 0:00:04\n",
      "   ------------ --------------------------- 39.1/124.9 MB 28.4 MB/s eta 0:00:04\n",
      "   ------------ --------------------------- 40.5/124.9 MB 27.3 MB/s eta 0:00:04\n",
      "   ------------- -------------------------- 42.0/124.9 MB 28.4 MB/s eta 0:00:03\n",
      "   ------------- -------------------------- 42.0/124.9 MB 28.4 MB/s eta 0:00:03\n",
      "   ------------- -------------------------- 43.3/124.9 MB 25.1 MB/s eta 0:00:04\n",
      "   -------------- ------------------------- 44.4/124.9 MB 27.3 MB/s eta 0:00:03\n",
      "   -------------- ------------------------- 45.8/124.9 MB 26.2 MB/s eta 0:00:04\n",
      "   -------------- ------------------------- 46.8/124.9 MB 26.2 MB/s eta 0:00:03\n",
      "   --------------- ------------------------ 47.8/124.9 MB 28.4 MB/s eta 0:00:03\n",
      "   --------------- ------------------------ 49.3/124.9 MB 26.2 MB/s eta 0:00:03\n",
      "   ---------------- ----------------------- 50.9/124.9 MB 27.3 MB/s eta 0:00:03\n",
      "   ---------------- ----------------------- 52.1/124.9 MB 26.2 MB/s eta 0:00:03\n",
      "   ----------------- ---------------------- 53.3/124.9 MB 28.5 MB/s eta 0:00:03\n",
      "   ----------------- ---------------------- 54.8/124.9 MB 29.7 MB/s eta 0:00:03\n",
      "   ----------------- ---------------------- 55.9/124.9 MB 31.2 MB/s eta 0:00:03\n",
      "   ------------------ --------------------- 57.2/124.9 MB 31.2 MB/s eta 0:00:03\n",
      "   ------------------ --------------------- 58.4/124.9 MB 32.7 MB/s eta 0:00:03\n",
      "   ------------------- -------------------- 59.7/124.9 MB 32.7 MB/s eta 0:00:02\n",
      "   ------------------- -------------------- 60.9/124.9 MB 32.8 MB/s eta 0:00:02\n",
      "   ------------------- -------------------- 62.3/124.9 MB 32.7 MB/s eta 0:00:02\n",
      "   -------------------- ------------------- 63.1/124.9 MB 32.8 MB/s eta 0:00:02\n",
      "   -------------------- ------------------- 64.4/124.9 MB 32.8 MB/s eta 0:00:02\n",
      "   --------------------- ------------------ 66.0/124.9 MB 32.7 MB/s eta 0:00:02\n",
      "   --------------------- ------------------ 66.9/124.9 MB 32.8 MB/s eta 0:00:02\n",
      "   --------------------- ------------------ 68.2/124.9 MB 31.2 MB/s eta 0:00:02\n",
      "   ---------------------- ----------------- 69.3/124.9 MB 31.2 MB/s eta 0:00:02\n",
      "   ---------------------- ----------------- 70.2/124.9 MB 29.7 MB/s eta 0:00:02\n",
      "   ---------------------- ----------------- 71.0/124.9 MB 26.2 MB/s eta 0:00:03\n",
      "   ---------------------- ----------------- 71.0/124.9 MB 26.2 MB/s eta 0:00:03\n",
      "   ----------------------- ---------------- 73.5/124.9 MB 27.3 MB/s eta 0:00:02\n",
      "   ------------------------ --------------- 75.1/124.9 MB 28.5 MB/s eta 0:00:02\n",
      "   ------------------------ --------------- 76.3/124.9 MB 27.3 MB/s eta 0:00:02\n",
      "   ------------------------- -------------- 78.1/124.9 MB 28.4 MB/s eta 0:00:02\n",
      "   ------------------------- -------------- 79.5/124.9 MB 28.4 MB/s eta 0:00:02\n",
      "   ------------------------- -------------- 81.1/124.9 MB 34.4 MB/s eta 0:00:02\n",
      "   -------------------------- ------------- 82.5/124.9 MB 36.4 MB/s eta 0:00:02\n",
      "   -------------------------- ------------- 83.8/124.9 MB 34.4 MB/s eta 0:00:02\n",
      "   --------------------------- ------------ 85.5/124.9 MB 34.4 MB/s eta 0:00:02\n",
      "   --------------------------- ------------ 87.2/124.9 MB 34.6 MB/s eta 0:00:02\n",
      "   ---------------------------- ----------- 88.5/124.9 MB 32.8 MB/s eta 0:00:02\n",
      "   ---------------------------- ----------- 89.8/124.9 MB 32.8 MB/s eta 0:00:02\n",
      "   ----------------------------- ---------- 91.1/124.9 MB 32.8 MB/s eta 0:00:02\n",
      "   ----------------------------- ---------- 91.9/124.9 MB 32.7 MB/s eta 0:00:02\n",
      "   ----------------------------- ---------- 93.5/124.9 MB 32.7 MB/s eta 0:00:01\n",
      "   ------------------------------ --------- 95.1/124.9 MB 31.2 MB/s eta 0:00:01\n",
      "   ------------------------------ --------- 96.6/124.9 MB 31.2 MB/s eta 0:00:01\n",
      "   ------------------------------- -------- 97.7/124.9 MB 31.2 MB/s eta 0:00:01\n",
      "   ------------------------------- -------- 98.4/124.9 MB 31.2 MB/s eta 0:00:01\n",
      "   ------------------------------- -------- 98.5/124.9 MB 28.4 MB/s eta 0:00:01\n",
      "   ------------------------------- -------- 99.5/124.9 MB 27.3 MB/s eta 0:00:01\n",
      "   ------------------------------- ------- 100.2/124.9 MB 25.2 MB/s eta 0:00:01\n",
      "   ------------------------------- ------- 100.8/124.9 MB 24.2 MB/s eta 0:00:01\n",
      "   ------------------------------- ------- 101.5/124.9 MB 23.4 MB/s eta 0:00:02\n",
      "   -------------------------------- ------ 102.5/124.9 MB 22.6 MB/s eta 0:00:01\n",
      "   -------------------------------- ------ 102.9/124.9 MB 21.8 MB/s eta 0:00:02\n",
      "   -------------------------------- ------ 103.9/124.9 MB 21.1 MB/s eta 0:00:01\n",
      "   -------------------------------- ------ 104.6/124.9 MB 20.5 MB/s eta 0:00:01\n",
      "   -------------------------------- ------ 105.4/124.9 MB 19.8 MB/s eta 0:00:01\n",
      "   --------------------------------- ----- 106.7/124.9 MB 19.8 MB/s eta 0:00:01\n",
      "   --------------------------------- ----- 107.9/124.9 MB 19.3 MB/s eta 0:00:01\n",
      "   ---------------------------------- ---- 109.0/124.9 MB 21.1 MB/s eta 0:00:01\n",
      "   ---------------------------------- ---- 110.0/124.9 MB 21.1 MB/s eta 0:00:01\n",
      "   ---------------------------------- ---- 111.3/124.9 MB 22.6 MB/s eta 0:00:01\n",
      "   ----------------------------------- --- 112.2/124.9 MB 21.8 MB/s eta 0:00:01\n",
      "   ----------------------------------- --- 113.0/124.9 MB 22.6 MB/s eta 0:00:01\n",
      "   ----------------------------------- --- 114.1/124.9 MB 22.6 MB/s eta 0:00:01\n",
      "   ------------------------------------ -- 115.4/124.9 MB 23.4 MB/s eta 0:00:01\n",
      "   ------------------------------------ -- 116.3/124.9 MB 23.4 MB/s eta 0:00:01\n",
      "   ------------------------------------ -- 117.6/124.9 MB 24.2 MB/s eta 0:00:01\n",
      "   ------------------------------------- - 118.9/124.9 MB 24.2 MB/s eta 0:00:01\n",
      "   ------------------------------------- - 119.7/124.9 MB 24.3 MB/s eta 0:00:01\n",
      "   ------------------------------------- - 120.7/124.9 MB 25.1 MB/s eta 0:00:01\n",
      "   ------------------------------------- - 121.1/124.9 MB 23.4 MB/s eta 0:00:01\n",
      "   --------------------------------------  122.0/124.9 MB 22.6 MB/s eta 0:00:01\n",
      "   --------------------------------------  122.7/124.9 MB 22.6 MB/s eta 0:00:01\n",
      "   --------------------------------------  123.5/124.9 MB 22.5 MB/s eta 0:00:01\n",
      "   --------------------------------------  124.5/124.9 MB 22.6 MB/s eta 0:00:01\n",
      "   --------------------------------------  124.9/124.9 MB 22.6 MB/s eta 0:00:01\n",
      "   --------------------------------------  124.9/124.9 MB 22.6 MB/s eta 0:00:01\n",
      "   --------------------------------------  124.9/124.9 MB 22.6 MB/s eta 0:00:01\n",
      "   --------------------------------------  124.9/124.9 MB 22.6 MB/s eta 0:00:01\n",
      "   --------------------------------------  124.9/124.9 MB 22.6 MB/s eta 0:00:01\n",
      "   --------------------------------------  124.9/124.9 MB 22.6 MB/s eta 0:00:01\n",
      "   --------------------------------------  124.9/124.9 MB 22.6 MB/s eta 0:00:01\n",
      "   --------------------------------------  124.9/124.9 MB 22.6 MB/s eta 0:00:01\n",
      "   --------------------------------------  124.9/124.9 MB 22.6 MB/s eta 0:00:01\n",
      "   --------------------------------------  124.9/124.9 MB 22.6 MB/s eta 0:00:01\n",
      "   --------------------------------------  124.9/124.9 MB 22.6 MB/s eta 0:00:01\n",
      "   --------------------------------------  124.9/124.9 MB 22.6 MB/s eta 0:00:01\n",
      "   --------------------------------------  124.9/124.9 MB 22.6 MB/s eta 0:00:01\n",
      "   --------------------------------------  124.9/124.9 MB 22.6 MB/s eta 0:00:01\n",
      "   --------------------------------------  124.9/124.9 MB 22.6 MB/s eta 0:00:01\n",
      "   --------------------------------------  124.9/124.9 MB 22.6 MB/s eta 0:00:01\n",
      "   --------------------------------------  124.9/124.9 MB 22.6 MB/s eta 0:00:01\n",
      "   --------------------------------------  124.9/124.9 MB 22.6 MB/s eta 0:00:01\n",
      "   --------------------------------------  124.9/124.9 MB 22.6 MB/s eta 0:00:01\n",
      "   --------------------------------------  124.9/124.9 MB 22.6 MB/s eta 0:00:01\n",
      "   --------------------------------------  124.9/124.9 MB 22.6 MB/s eta 0:00:01\n",
      "   --------------------------------------  124.9/124.9 MB 22.6 MB/s eta 0:00:01\n",
      "   --------------------------------------  124.9/124.9 MB 22.6 MB/s eta 0:00:01\n",
      "   --------------------------------------  124.9/124.9 MB 22.6 MB/s eta 0:00:01\n",
      "   --------------------------------------  124.9/124.9 MB 22.6 MB/s eta 0:00:01\n",
      "   --------------------------------------  124.9/124.9 MB 22.6 MB/s eta 0:00:01\n",
      "   --------------------------------------  124.9/124.9 MB 22.6 MB/s eta 0:00:01\n",
      "   --------------------------------------  124.9/124.9 MB 22.6 MB/s eta 0:00:01\n",
      "   --------------------------------------  124.9/124.9 MB 22.6 MB/s eta 0:00:01\n",
      "   --------------------------------------  124.9/124.9 MB 22.6 MB/s eta 0:00:01\n",
      "   --------------------------------------  124.9/124.9 MB 22.6 MB/s eta 0:00:01\n",
      "   --------------------------------------  124.9/124.9 MB 22.6 MB/s eta 0:00:01\n",
      "   --------------------------------------  124.9/124.9 MB 22.6 MB/s eta 0:00:01\n",
      "   --------------------------------------  124.9/124.9 MB 22.6 MB/s eta 0:00:01\n",
      "   --------------------------------------  124.9/124.9 MB 22.6 MB/s eta 0:00:01\n",
      "   --------------------------------------  124.9/124.9 MB 22.6 MB/s eta 0:00:01\n",
      "   ---------------------------------------- 124.9/124.9 MB 4.8 MB/s eta 0:00:00\n",
      "Installing collected packages: xgboost\n",
      "Successfully installed xgboost-2.1.1\n"
     ]
    }
   ],
   "source": [
    "pip install xgboost"
   ]
  },
  {
   "cell_type": "code",
   "execution_count": 163,
   "id": "6537f751-d727-41fb-890e-61ebc26e7aad",
   "metadata": {},
   "outputs": [
    {
     "name": "stdout",
     "output_type": "stream",
     "text": [
      "Collecting lightgbm\n",
      "  Downloading lightgbm-4.5.0-py3-none-win_amd64.whl.metadata (17 kB)\n",
      "Requirement already satisfied: numpy>=1.17.0 in c:\\users\\sasu-\\anaconda3\\lib\\site-packages (from lightgbm) (1.26.4)\n",
      "Requirement already satisfied: scipy in c:\\users\\sasu-\\anaconda3\\lib\\site-packages (from lightgbm) (1.13.1)\n",
      "Downloading lightgbm-4.5.0-py3-none-win_amd64.whl (1.4 MB)\n",
      "   ---------------------------------------- 0.0/1.4 MB ? eta -:--:--\n",
      "   - -------------------------------------- 0.0/1.4 MB 991.0 kB/s eta 0:00:02\n",
      "   ------------- -------------------------- 0.5/1.4 MB 6.2 MB/s eta 0:00:01\n",
      "   ---------------------------------------  1.4/1.4 MB 11.5 MB/s eta 0:00:01\n",
      "   ---------------------------------------- 1.4/1.4 MB 10.2 MB/s eta 0:00:00\n",
      "Installing collected packages: lightgbm\n",
      "Successfully installed lightgbm-4.5.0\n",
      "Note: you may need to restart the kernel to use updated packages.\n"
     ]
    }
   ],
   "source": [
    "pip install lightgbm"
   ]
  },
  {
   "cell_type": "code",
   "execution_count": 169,
   "id": "a1a17688-9da6-4dbf-a6d4-bd7321cf95c4",
   "metadata": {},
   "outputs": [
    {
     "name": "stdout",
     "output_type": "stream",
     "text": [
      "### RandomForestRegressor ###\n",
      "RMSLE: 0.3546126156405754 RMSE: 50.2417735140039 MAE: 31.15086159700994 \n",
      "\n",
      "RMSLE:0.355, RMSE:50.242, MAE:31.151\n",
      "### GradientBoostingRegressor ###\n",
      "RMSLE: 0.32977122066607717 RMSE: 53.336526630906064 MAE: 32.738052769899404 \n",
      "\n",
      "RMSLE:0.330, RMSE:53.337, MAE:32.738\n",
      "### XGBRegressor ###\n",
      "RMSLE: 0.3387945101883576 RMSE: 51.475410497945525 MAE: 31.356582982001388 \n",
      "\n",
      "RMSLE:0.339, RMSE:51.475, MAE:31.357\n",
      "[LightGBM] [Info] Auto-choosing row-wise multi-threading, the overhead of testing was 0.001003 seconds.\n",
      "You can set `force_row_wise=true` to remove the overhead.\n",
      "And if memory is not enough, you can set `force_col_wise=true`.\n",
      "[LightGBM] [Info] Total Bins 348\n",
      "[LightGBM] [Info] Number of data points in the train set: 7620, number of used features: 72\n",
      "[LightGBM] [Info] Start training from score 4.582043\n",
      "### LGBMRegressor ###\n",
      "RMSLE: 0.3188456499157369 RMSE: 47.21464677592674 MAE: 29.028770412428237 \n",
      "\n",
      "RMSLE:0.319, RMSE:47.215, MAE:29.029\n"
     ]
    }
   ],
   "source": [
    "from sklearn.ensemble import RandomForestRegressor, GradientBoostingRegressor\n",
    "from xgboost import XGBRegressor\n",
    "from lightgbm import LGBMRegressor\n",
    "\n",
    "# RandomForest, GBM, XGBoost, LifhtGmb models\n",
    "rf_reg = RandomForestRegressor(n_estimators=500)\n",
    "gbm_reg = GradientBoostingRegressor(n_estimators=500)\n",
    "xgb_reg = XGBRegressor(n_estimators=500)\n",
    "lgbm_reg = LGBMRegressor(n_estimators=500)\n",
    "\n",
    "for model in [rf_reg, gbm_reg, xgb_reg, lgbm_reg]:\n",
    "    #XGBoost may troubleshoot if your input is DataFrame so assign them in ndarray\n",
    "    get_model_predict(model, X_train.values, X_test.values, y_train.values,\n",
    "                      y_test.values, is_expm1=True)"
   ]
  },
  {
   "cell_type": "code",
   "execution_count": 171,
   "id": "7091a51d-e982-407b-a485-405adb67e486",
   "metadata": {},
   "outputs": [
    {
     "data": {
      "text/plain": [
       "' Results: \\n### RandomForestRegressor ###\\nRMSLE: 0.3546126156405754 RMSE: 50.2417735140039 MAE: 31.15086159700994 \\n\\nRMSLE:0.355, RMSE:50.242, MAE:31.151\\n### GradientBoostingRegressor ###\\nRMSLE: 0.32977122066607717 RMSE: 53.336526630906064 MAE: 32.738052769899404 \\n\\nRMSLE:0.330, RMSE:53.337, MAE:32.738\\n### XGBRegressor ###\\nRMSLE: 0.3387945101883576 RMSE: 51.475410497945525 MAE: 31.356582982001388 \\n\\nRMSLE:0.339, RMSE:51.475, MAE:31.357\\n[LightGBM] [Info] Auto-choosing row-wise multi-threading, the overhead of testing was 0.001003 seconds.\\nYou can set `force_row_wise=true` to remove the overhead.\\nAnd if memory is not enough, you can set `force_col_wise=true`.\\n[LightGBM] [Info] Total Bins 348\\n[LightGBM] [Info] Number of data points in the train set: 7620, number of used features: 72\\n[LightGBM] [Info] Start training from score 4.582043\\n### LGBMRegressor ###\\nRMSLE: 0.3188456499157369 RMSE: 47.21464677592674 MAE: 29.028770412428237 \\n\\nRMSLE:0.319, RMSE:47.215, MAE:29.029\\n'"
      ]
     },
     "execution_count": 171,
     "metadata": {},
     "output_type": "execute_result"
    }
   ],
   "source": [
    "''' Results: \n",
    "### RandomForestRegressor ###\n",
    "RMSLE: 0.3546126156405754 RMSE: 50.2417735140039 MAE: 31.15086159700994 \n",
    "\n",
    "RMSLE:0.355, RMSE:50.242, MAE:31.151\n",
    "### GradientBoostingRegressor ###\n",
    "RMSLE: 0.32977122066607717 RMSE: 53.336526630906064 MAE: 32.738052769899404 \n",
    "\n",
    "RMSLE:0.330, RMSE:53.337, MAE:32.738\n",
    "### XGBRegressor ###\n",
    "RMSLE: 0.3387945101883576 RMSE: 51.475410497945525 MAE: 31.356582982001388 \n",
    "\n",
    "RMSLE:0.339, RMSE:51.475, MAE:31.357\n",
    "[LightGBM] [Info] Auto-choosing row-wise multi-threading, the overhead of testing was 0.001003 seconds.\n",
    "You can set `force_row_wise=true` to remove the overhead.\n",
    "And if memory is not enough, you can set `force_col_wise=true`.\n",
    "[LightGBM] [Info] Total Bins 348\n",
    "[LightGBM] [Info] Number of data points in the train set: 7620, number of used features: 72\n",
    "[LightGBM] [Info] Start training from score 4.582043\n",
    "### LGBMRegressor ###\n",
    "RMSLE: 0.3188456499157369 RMSE: 47.21464677592674 MAE: 29.028770412428237 \n",
    "\n",
    "RMSLE:0.319, RMSE:47.215, MAE:29.029\n",
    "'''"
   ]
  },
  {
   "cell_type": "code",
   "execution_count": null,
   "id": "756e3968-db57-407c-82a4-90f58f8b0e9b",
   "metadata": {},
   "outputs": [],
   "source": []
  }
 ],
 "metadata": {
  "kernelspec": {
   "display_name": "Python 3 (ipykernel)",
   "language": "python",
   "name": "python3"
  },
  "language_info": {
   "codemirror_mode": {
    "name": "ipython",
    "version": 3
   },
   "file_extension": ".py",
   "mimetype": "text/x-python",
   "name": "python",
   "nbconvert_exporter": "python",
   "pygments_lexer": "ipython3",
   "version": "3.12.4"
  }
 },
 "nbformat": 4,
 "nbformat_minor": 5
}
