{
 "cells": [
  {
   "cell_type": "markdown",
   "id": "e00fbcb4-0096-4e41-99eb-d74969e10f27",
   "metadata": {},
   "source": [
    "LAB SESSION 1\n",
    "\n",
    "1. array creation and manipulation with numpy"
   ]
  },
  {
   "cell_type": "code",
   "execution_count": 87,
   "id": "3a78d612-5e19-4cdd-a1cb-8ff599e1d3b3",
   "metadata": {},
   "outputs": [],
   "source": [
    "# LAB SESSION 1\n",
    "\n",
    "import numpy as np"
   ]
  },
  {
   "cell_type": "code",
   "execution_count": 88,
   "id": "c685a6ad-5be0-493c-912b-5548cd7477db",
   "metadata": {},
   "outputs": [
    {
     "name": "stdout",
     "output_type": "stream",
     "text": [
      "[0 1 2 3 4 5 6 7 8 9]\n",
      "(10,)\n"
     ]
    }
   ],
   "source": [
    "arr1 = np.arange(10)\n",
    "print(arr1)\n",
    "print(arr1.shape)"
   ]
  },
  {
   "cell_type": "code",
   "execution_count": 89,
   "id": "088e145d-c993-49ef-aa66-456094c45f26",
   "metadata": {},
   "outputs": [
    {
     "name": "stdout",
     "output_type": "stream",
     "text": [
      "arr1 type: <class 'numpy.ndarray'>\n",
      "arr1 ARRAY TYPE: (3,)\n"
     ]
    }
   ],
   "source": [
    "# ARRAY MANIPULATION\n",
    "\n",
    "arr1 = np.array([0,6,2])\n",
    "print('arr1 type:', type(arr1))\n",
    "print('arr1 ARRAY TYPE:', arr1.shape)"
   ]
  },
  {
   "cell_type": "code",
   "execution_count": 90,
   "id": "fd3b2559-5cb6-4c16-9323-c8b8d386c043",
   "metadata": {},
   "outputs": [
    {
     "name": "stdout",
     "output_type": "stream",
     "text": [
      "(1, 2)\n"
     ]
    }
   ],
   "source": [
    "arr2 = np.array([[1,2]])\n",
    "print(arr2.shape)"
   ]
  },
  {
   "cell_type": "code",
   "execution_count": 91,
   "id": "1334982e-ac3c-4622-9dfa-d094ef298720",
   "metadata": {},
   "outputs": [
    {
     "name": "stdout",
     "output_type": "stream",
     "text": [
      "(1, 1, 2)\n"
     ]
    }
   ],
   "source": [
    "arr3 = np.array([[[1,2]]])\n",
    "print(arr3.shape)"
   ]
  },
  {
   "cell_type": "code",
   "execution_count": 92,
   "id": "d290662d-ae64-4d10-b50c-a3f2aec646bf",
   "metadata": {},
   "outputs": [
    {
     "name": "stdout",
     "output_type": "stream",
     "text": [
      "(3, 2)\n"
     ]
    }
   ],
   "source": [
    "arr4 = np.array([[1,2],\n",
    "                 [2,3],\n",
    "                 [3,4]])\n",
    "print(arr4.shape)"
   ]
  },
  {
   "cell_type": "code",
   "execution_count": 93,
   "id": "83a84cf5-7332-46bb-a477-8f5326efaf30",
   "metadata": {},
   "outputs": [
    {
     "name": "stdout",
     "output_type": "stream",
     "text": [
      "(1, 4, 4)\n"
     ]
    }
   ],
   "source": [
    "arr5 = np.array([[[1,2,3,4],\n",
    "                  [2,3,4,5],\n",
    "                  [2,3,4,5],\n",
    "                  [5,4,3,2]]])\n",
    "print(arr5.shape)"
   ]
  },
  {
   "cell_type": "code",
   "execution_count": 94,
   "id": "4e700a54-2917-4eff-8cfc-7945a6b893b3",
   "metadata": {},
   "outputs": [
    {
     "name": "stdout",
     "output_type": "stream",
     "text": [
      "(2, 5, 6)\n"
     ]
    }
   ],
   "source": [
    "arr6 =np.array([[[1,2,4,5,3,2],[1,2,3,4,5,3],[1,2,3,4,5,6],\n",
    "          [4,6,7,8,9,0],[6,8,6,5,4,7]],\n",
    "        [[1,2,4,5,3,2],[1,2,3,4,5,3],[1,2,3,4,5,6],\n",
    "         [4,6,7,8,9,0],[6,8,6,5,4,7]]])\n",
    "print(arr6.shape)\n",
    "#pred 2,6,5   u got it wrong, the real size is 2,5,6\n",
    "#2 blocks, with 5 subarrays (the subarrays that contain 6 elemtnts) THUS (2,5,6)\n",
    "\n",
    "         "
   ]
  },
  {
   "cell_type": "code",
   "execution_count": 95,
   "id": "106eb8a2-d065-4dfd-a8d4-4f7d054fdf2e",
   "metadata": {},
   "outputs": [
    {
     "name": "stdout",
     "output_type": "stream",
     "text": [
      "[[[0.93519272 0.80078705 0.72222553 0.18285688 0.2730376 ]\n",
      "  [0.81186499 0.8249471  0.8521628  0.69920934 0.64600315]\n",
      "  [0.71205934 0.63859098 0.98894544 0.32151966 0.85390062]\n",
      "  [0.25918716 0.47221336 0.02164217 0.16229466 0.64952715]\n",
      "  [0.95546934 0.91165529 0.37281288 0.00864996 0.65431016]\n",
      "  [0.83263162 0.68896017 0.25377149 0.69546126 0.56966038]]\n",
      "\n",
      " [[0.80897387 0.25184778 0.17250127 0.59297035 0.39001273]\n",
      "  [0.80072848 0.2719969  0.26973172 0.64141314 0.11394555]\n",
      "  [0.27401118 0.23218637 0.20314794 0.69164252 0.01568794]\n",
      "  [0.47407198 0.81373389 0.73104716 0.35378328 0.168214  ]\n",
      "  [0.34159543 0.50748851 0.94798904 0.47635106 0.13030162]\n",
      "  [0.49373268 0.44456672 0.76841959 0.0855013  0.96382727]]]\n",
      "Array shape: (2, 6, 5)\n"
     ]
    }
   ],
   "source": [
    "# Creating an array with dimensions 2x6x5\n",
    "arr = np.random.rand(2, 6, 5)\n",
    "print(arr)\n",
    "print(\"Array shape:\", arr.shape)"
   ]
  },
  {
   "cell_type": "markdown",
   "id": "39055016-0a48-457e-8fc5-071653ae2567",
   "metadata": {},
   "source": [
    "2. ndarray (N-dim array) data types"
   ]
  },
  {
   "cell_type": "code",
   "execution_count": 97,
   "id": "974b7237-830e-4799-a148-ae1cee991233",
   "metadata": {},
   "outputs": [
    {
     "name": "stdout",
     "output_type": "stream",
     "text": [
      "<class 'list'>\n",
      "<class 'numpy.ndarray'>\n",
      "This is a LIST! [1, 2] \n",
      " This is a numpy array!: [1 2]\n"
     ]
    }
   ],
   "source": [
    "#numeric array\n",
    "num_list = [1,2]\n",
    "print(type(num_list))\n",
    "\n",
    "num_arr = np.array(num_list)\n",
    "print(type(num_arr))\n",
    "print(\"This is a LIST!\", num_list, \"\\n\", \"This is a numpy array!:\", num_arr)"
   ]
  },
  {
   "cell_type": "code",
   "execution_count": 101,
   "id": "0fdecf5b-aead-4c9d-a61a-d005cbc081da",
   "metadata": {},
   "outputs": [
    {
     "name": "stdout",
     "output_type": "stream",
     "text": [
      "[1, 'haha'] <class 'list'> \n",
      "\n",
      "In the following mixed array, the previous integers transform in Str ['1' 'haha'] <class 'numpy.ndarray'> \n",
      " from numpy.dtype class <U11\n"
     ]
    }
   ],
   "source": [
    "# an ndarray cannot have different types of value included\n",
    "# how about when we mix int + str? (int < Str)\n",
    "mix_list = [1,'haha']\n",
    "mix_array = np.array(mix_list)\n",
    "print(mix_list, type(mix_list), \"\\n\")\n",
    "print(\"In the following mixed array, the previous integers transform in Str\" , mix_array, type(mix_array), \n",
    "      \"\\n from numpy.dtype class\", mix_array.dtype)"
   ]
  },
  {
   "cell_type": "markdown",
   "id": "0ff29e60-6001-478e-8e26-1823c202c68e",
   "metadata": {},
   "source": [
    "3.creating NdARRAYS (arange,zero,one)"
   ]
  },
  {
   "cell_type": "code",
   "execution_count": 108,
   "id": "2ca2860c-81d4-4b55-b657-c155941b96af",
   "metadata": {},
   "outputs": [
    {
     "name": "stdout",
     "output_type": "stream",
     "text": [
      "[0 1 2 3 4]\n",
      "int32 (5,)\n"
     ]
    }
   ],
   "source": [
    "# arange orderly assing numeric starting from 0\n",
    "\n",
    "sequence_arr = np.arange(5) # start at index 0 but start at 5\n",
    "print(sequence_arr) # should get numbers from 0 to 4, remember indexing in python\n",
    "print(sequence_arr.dtype, sequence_arr.shape) "
   ]
  },
  {
   "cell_type": "code",
   "execution_count": 110,
   "id": "367e2b10-8e7d-462c-a6fd-9d00a84285fa",
   "metadata": {},
   "outputs": [
    {
     "name": "stdout",
     "output_type": "stream",
     "text": [
      "[[0. 0. 0.]\n",
      " [0. 0. 0.]\n",
      " [0. 0. 0.]]\n",
      "Type: float64 \n",
      " Shape: (3, 3)\n"
     ]
    }
   ],
   "source": [
    "# filling with zeros\n",
    "zero_arr = np.zeros((3,3))\n",
    "print(zero_arr)\n",
    "print( \"Type:\", zero_arr.dtype, \"\\n\", \"Shape:\", zero_arr.shape)"
   ]
  },
  {
   "cell_type": "code",
   "execution_count": 122,
   "id": "b1df98ab-b6f2-4066-a6ab-4339adcfc27b",
   "metadata": {},
   "outputs": [
    {
     "name": "stdout",
     "output_type": "stream",
     "text": [
      "og array: [1 2] \n",
      "\n",
      "new shaped arr: \n",
      " [[1]\n",
      " [2]]\n"
     ]
    }
   ],
   "source": [
    "# reshaping arrays\n",
    "print(\"og array:\", num_arr, \"\\n\") #(1,2)\n",
    "reshape_arr = num_arr.reshape(2,1)\n",
    "print(\"new shaped arr: \\n\" ,reshape_arr) #compatible because 1x2 = 2 / 2x1 = 2\n",
    "\n",
    "# does not work with lets say \"reshape.(3,1)\"\n",
    "# insufficient numner of ndarrays"
   ]
  },
  {
   "cell_type": "code",
   "execution_count": 139,
   "id": "95123f5d-2fed-4b7b-92f2-ca7f9d88adc0",
   "metadata": {},
   "outputs": [
    {
     "name": "stdout",
     "output_type": "stream",
     "text": [
      "[0 1 2 3 4 5]\n",
      "Previous shape: (6,)\n",
      "new shape: (1, 6)\n",
      "new shape: (6, 1)\n",
      "new shape: (6, 1)\n"
     ]
    }
   ],
   "source": [
    "# Utilizing -1 when reshaping\n",
    "arr09 = np.arange(6)\n",
    "print(arr09)\n",
    "print(\"Previous shape:\", arr09.shape) #shape is (6,)\n",
    "\n",
    "# When we reshape & use -1 in either row or column position\n",
    "# the number gets assigned automatically \n",
    "arr10 = arr09.reshape(-1,6)\n",
    "print(\"new shape:\", arr10.shape) # (1,6) 1x6=6\n",
    "arr11 = arr09.reshape(6,-1)\n",
    "print(\"new shape:\", arr11.shape) # (6,1) 6x1=6\n",
    "arr12 = arr09.reshape(-1,1)\n",
    "print(\"new shape:\", arr12.shape) \n",
    "# with (-1,1) we ask numpy to reshape array with a column & rows neccesary\n",
    "# this to accomodate the data"
   ]
  },
  {
   "cell_type": "code",
   "execution_count": 143,
   "id": "8ae54702-cbb6-43a5-a7c0-e11bd33c5ed8",
   "metadata": {},
   "outputs": [
    {
     "name": "stdout",
     "output_type": "stream",
     "text": [
      "Array 14 shape: (2, 10)\n",
      "Array 15 shape: (2, 10)\n"
     ]
    }
   ],
   "source": [
    "# one more example of how it automatically assigns unumber\n",
    "\n",
    "arr13 = np.random.rand(4,5) # this array has 4x5 = 20 elements\n",
    "arr14 = arr13.reshape(-1,10) # should assign a 2 so 2x10 = 20 elements\n",
    "arr15 = arr13.reshape(2,-1) # should assign a 10 so 2x10  = 20 elements\n",
    "print(\"Array 14 shape:\", arr14.shape)\n",
    "print(\"Array 15 shape:\", arr15.shape)"
   ]
  },
  {
   "cell_type": "markdown",
   "id": "db160064-8c80-49a6-ab19-e242be1bf2e5",
   "metadata": {},
   "source": [
    "4. array indexing -\n",
    "    we can use indices to retrieve specific elements of the array"
   ]
  },
  {
   "cell_type": "code",
   "execution_count": 160,
   "id": "973fee80-d82f-437e-bd0f-53b7f571cf36",
   "metadata": {},
   "outputs": [
    {
     "name": "stdout",
     "output_type": "stream",
     "text": [
      "array: [1 2 3 4]\n",
      "Second element is: 2\n"
     ]
    }
   ],
   "source": [
    "#array from 1 to 4 using start and stop parameters\n",
    "in_arr = np.arange(start=1, stop=5) #elements should be 1-4\n",
    "print(\"array:\", in_arr)\n",
    "\n",
    "# calling out the second element\n",
    "# index start at 0 array[1] = 2\n",
    "call = in_arr[1]\n",
    "print(\"Second element is:\", call)"
   ]
  },
  {
   "cell_type": "code",
   "execution_count": 162,
   "id": "35df640d-df74-4b54-bf4b-574505bbb2fd",
   "metadata": {},
   "outputs": [
    {
     "name": "stdout",
     "output_type": "stream",
     "text": [
      "array: [1 2 3 4]\n",
      "last element: 4\n",
      "second to last element 3\n"
     ]
    }
   ],
   "source": [
    "# we can use '-' to pull elements from the last indices\n",
    "print(\"array:\", in_arr)\n",
    "last = in_arr[-1] # should be bringing 4 back\n",
    "second_to_last = in_arr[-2] # should bring 3 back\n",
    "print(\"last element:\", last)\n",
    "print(\"second to last element\", second_to_last)"
   ]
  },
  {
   "cell_type": "code",
   "execution_count": 164,
   "id": "1480362a-4e61-4ed6-a544-1ee4477bbf34",
   "metadata": {},
   "outputs": [
    {
     "name": "stdout",
     "output_type": "stream",
     "text": [
      "array: [1 2 3 4]\n",
      "array: [0 2 3 5]\n"
     ]
    }
   ],
   "source": [
    "# Replacing & Updating elements with indexing\n",
    "print(\"array:\", in_arr)\n",
    "in_arr[0] = 0 # changing 1 to 0\n",
    "in_arr[3] = 5 # changing 4 to 5\n",
    "print(\"array:\", in_arr)"
   ]
  },
  {
   "cell_type": "code",
   "execution_count": 166,
   "id": "ff8cfb46-782b-4863-888a-28002b373c42",
   "metadata": {},
   "outputs": [
    {
     "name": "stdout",
     "output_type": "stream",
     "text": [
      "[1 2 3 4 5 6 7 8 9]\n",
      "sliced arr: [1 2 3 4]\n"
     ]
    }
   ],
   "source": [
    "# Sicling arrays with indexing\n",
    "arr_2slice = np.arange(start=1,stop=10) #array w/elements 1 to 9\n",
    "print(arr_2slice)\n",
    "sliced_arr = arr_2slice[0:4] # should bring numbers 1-4,index starts at 0\n",
    "print(\"sliced arr:\", sliced_arr)"
   ]
  },
  {
   "cell_type": "code",
   "execution_count": 174,
   "id": "637c7baf-568f-4e50-b672-c821548095af",
   "metadata": {},
   "outputs": [
    {
     "name": "stdout",
     "output_type": "stream",
     "text": [
      "Before slice: [ 1  2  3  4  5  6  7  8  9 10]\n",
      "Index 5 to end: [ 5  6  7  8  9 10]\n",
      "Beginning of array to index 6: [1 2 3 4 5 6]\n",
      "End to end (all): [ 1  2  3  4  5  6  7  8  9 10]\n"
     ]
    }
   ],
   "source": [
    "# Slicing indexing notation example\n",
    "to_slice = np.arange(start=1,stop=11) #array w/elements 1 to 10\n",
    "\n",
    "slice1= to_slice[4:] #selects index 4 to end of array so 4-10\n",
    "slice2= to_slice[:6] #selects from beginning of array to index 8 so 1-8\n",
    "slice3= to_slice[:] #selects all exisitng items\n",
    "\n",
    "print(\"Before slice:\", to_slice)\n",
    "print(\"Index 5 to end:\", slice1)\n",
    "print(\"Beginning of array to index 6:\", slice2)\n",
    "print(\"End to end (all):\", slice3)"
   ]
  },
  {
   "cell_type": "code",
   "execution_count": 176,
   "id": "60d72af2-2349-461c-86e7-2aa34548dda5",
   "metadata": {},
   "outputs": [
    {
     "name": "stdout",
     "output_type": "stream",
     "text": [
      "[51 92 14 71 60 20 82 86 74 74]\n"
     ]
    }
   ],
   "source": [
    "# Fancy indexing / ADVANCED INDEXING\n",
    "rand = np.random.RandomState(42) #setting random state\n",
    "\n",
    "arr = rand.randint(100, size=10) #create random array numbers 1-10-, size 10\n",
    "print(arr)\n"
   ]
  },
  {
   "cell_type": "code",
   "execution_count": 178,
   "id": "76e772ef-d841-4fb0-819e-a4445b7fa62a",
   "metadata": {},
   "outputs": [
    {
     "data": {
      "text/plain": [
       "[14, 60, 74]"
      ]
     },
     "execution_count": 178,
     "metadata": {},
     "output_type": "execute_result"
    }
   ],
   "source": [
    "#Accessing different elements with Fancy indexing\n",
    "\n",
    "#if i want the 3rd, the 5th and 9th number\n",
    "[arr[2], arr[4], arr[8]]"
   ]
  },
  {
   "cell_type": "code",
   "execution_count": 180,
   "id": "63ecbe4b-3a40-4ebc-a044-964e9d3ba13a",
   "metadata": {},
   "outputs": [
    {
     "data": {
      "text/plain": [
       "array([51, 14, 20])"
      ]
     },
     "execution_count": 180,
     "metadata": {},
     "output_type": "execute_result"
    }
   ],
   "source": [
    "# Passing a single list/array of indices for same result\n",
    "indices = [0,2,5] # 1st, 3rd & 4th elements\n",
    "arr[indices]"
   ]
  },
  {
   "cell_type": "code",
   "execution_count": 182,
   "id": "9f176746-8829-438d-9703-2abb1fc9af26",
   "metadata": {},
   "outputs": [
    {
     "data": {
      "text/plain": [
       "array([[92, 14],\n",
       "       [71, 60]])"
      ]
     },
     "execution_count": 182,
     "metadata": {},
     "output_type": "execute_result"
    }
   ],
   "source": [
    "# W/ fancy indexing the shape of result reflects shape of the index arrays\n",
    "# rather than the shape of the array being indexed\n",
    "ind = np.array([[1,2],\n",
    "                [3,4]]) # 2nd through 5th elements\n",
    "arr[ind]"
   ]
  },
  {
   "cell_type": "code",
   "execution_count": 198,
   "id": "8c02c912-0c5a-450c-b99c-bd40902d99c7",
   "metadata": {},
   "outputs": [
    {
     "data": {
      "text/plain": [
       "array([[ 0,  1,  2],\n",
       "       [ 3,  4,  5],\n",
       "       [ 6,  7,  8],\n",
       "       [ 9, 10, 11]])"
      ]
     },
     "execution_count": 198,
     "metadata": {},
     "output_type": "execute_result"
    }
   ],
   "source": [
    "# Fancy indexing & multiple dimensions\n",
    "X = np.arange(12).reshape(4,3) #range of 1-12 & shape of 4x3\n",
    "X"
   ]
  },
  {
   "cell_type": "code",
   "execution_count": 210,
   "id": "3aeb13f8-43b4-4e59-88ab-21033ad05a1f",
   "metadata": {},
   "outputs": [
    {
     "data": {
      "text/plain": [
       "array([1, 4, 7])"
      ]
     },
     "execution_count": 210,
     "metadata": {},
     "output_type": "execute_result"
    }
   ],
   "source": [
    "# Alike standard indexing, 1st index refers to the row\n",
    "# 2nd to the column\n",
    "row = np.array([0, 1, 2]) #gets 1st,2nd&3rd elements from rows 0,1,2\n",
    "col = np.array([1, 1, 1]) #getting elements from second column of index 1\n",
    "X[row,col] # creates a new array"
   ]
  },
  {
   "cell_type": "code",
   "execution_count": 216,
   "id": "9ba0cfff-a955-4354-9e74-2c248fd3ac70",
   "metadata": {},
   "outputs": [],
   "source": [
    "# REMEMBER that with FANCY/ADVANCED indexing\n",
    "# return value refelcts broadcasted shape of indices\n",
    "# rather than the shape of the array being indexed\n",
    "#When using fancy (or advanced) indexing in NumPy,\n",
    "#the way the output is shaped depends more on the shapes\n",
    "#of the index arrays you're using, rather than the shape \n",
    "#of the original array you're indexing into.\n",
    "\n"
   ]
  },
  {
   "cell_type": "code",
   "execution_count": 218,
   "id": "3754f111-b52c-477f-b87c-14c82a233cba",
   "metadata": {},
   "outputs": [
    {
     "name": "stdout",
     "output_type": "stream",
     "text": [
      "Boolean indexing result: [6 7 8 9]\n"
     ]
    }
   ],
   "source": [
    "# Boolean indexing\n",
    "arr_1d = np.arange(start=1, stop=10)\n",
    "\n",
    "# inside the list [] arr_id > 5 Boolean indexing\n",
    "bool_arr = arr_1d[arr_1d > 5] # selecting elements true to have value over 5\n",
    "print(\"Boolean indexing result:\", bool_arr)"
   ]
  },
  {
   "cell_type": "code",
   "execution_count": 222,
   "id": "27d7d303-b308-44c7-9ac2-2cfe2a757dbb",
   "metadata": {},
   "outputs": [
    {
     "name": "stdout",
     "output_type": "stream",
     "text": [
      "Original array: [1 2 3 4 5 6 7 8 9]\n",
      "Boolean values: [False False False False False  True  True  True  True]\n"
     ]
    }
   ],
   "source": [
    "# Comparing original array with the bigger than condition \n",
    "print(\"Original array:\", arr_1d)\n",
    "print(\"Boolean values:\", arr_1d > 5) # selecting vals bigger than 5\n",
    "# notice how indexes 6"
   ]
  },
  {
   "cell_type": "markdown",
   "id": "d96b04ec-00f4-4786-813f-02d289a2b758",
   "metadata": {},
   "source": [
    "NOTE: Advanced stuff involves Multi-D arrays & Indexing (bigger than the egs)"
   ]
  },
  {
   "cell_type": "markdown",
   "id": "1d4bc600-5477-4eeb-9634-ddbb67d869d4",
   "metadata": {},
   "source": [
    "5. Other functions mentioned in lab module 1"
   ]
  },
  {
   "cell_type": "markdown",
   "id": "a26cb39e-6d74-4a2b-a38a-bdc4dcdbc619",
   "metadata": {},
   "source": [
    "- sort(), argsort() ~ this sorts data(hi to low, low to hi)\n",
    "- np.dot() ~ gets result of multiplying matrix A & B\n",
    "- transpose() ~ gets the inverse matrix"
   ]
  },
  {
   "cell_type": "code",
   "execution_count": 242,
   "id": "be4da953-210d-44af-b056-2695738a18a8",
   "metadata": {},
   "outputs": [
    {
     "name": "stdout",
     "output_type": "stream",
     "text": [
      "Original array: \n",
      " [[1 2 3]\n",
      " [4 5 6]\n",
      " [7 8 9]] \n",
      "\n",
      "Transposed array (inverted matrix): \n",
      " [[1 4 7]\n",
      " [2 5 8]\n",
      " [3 6 9]]\n",
      "Notice how the 2,3,6 swapped place with 4,7,8 this replaces regular elements with their reciprocals in the matrix\n"
     ]
    }
   ],
   "source": [
    "# example of transpose function\n",
    "tobe_trans = np.array([[1,2,3],\n",
    "                       [4,5,6],\n",
    "                       [7,8,9]])\n",
    "after_trans = np.transpose(tobe_trans)\n",
    "print(\"Original array: \\n\", tobe_trans, \"\\n\")\n",
    "print(\"Transposed array (inverted matrix): \\n\", after_trans)\n",
    "print(\"Notice how the 2,3,6 swapped place with 4,7,8\",\n",
    "     \"this replaces regular elements with their reciprocals in the matrix\")"
   ]
  },
  {
   "cell_type": "code",
   "execution_count": null,
   "id": "7a2cfd9c-d76b-481a-8fc3-d5e344c7fecf",
   "metadata": {},
   "outputs": [],
   "source": []
  }
 ],
 "metadata": {
  "kernelspec": {
   "display_name": "Python 3 (ipykernel)",
   "language": "python",
   "name": "python3"
  },
  "language_info": {
   "codemirror_mode": {
    "name": "ipython",
    "version": 3
   },
   "file_extension": ".py",
   "mimetype": "text/x-python",
   "name": "python",
   "nbconvert_exporter": "python",
   "pygments_lexer": "ipython3",
   "version": "3.12.4"
  }
 },
 "nbformat": 4,
 "nbformat_minor": 5
}
